{
  "metadata": {
    "kernelspec": {
      "name": "python",
      "display_name": "Python (Pyodide)",
      "language": "python"
    },
    "language_info": {
      "codemirror_mode": {
        "name": "python",
        "version": 3
      },
      "file_extension": ".py",
      "mimetype": "text/x-python",
      "name": "python",
      "nbconvert_exporter": "python",
      "pygments_lexer": "ipython3",
      "version": "3.8"
    }
  },
  "nbformat_minor": 5,
  "nbformat": 4,
  "cells": [
    {
      "id": "4388a3ee-dc34-49a5-b743-c4e4b9c4f885",
      "cell_type": "markdown",
      "source": "SE3 Rajas Patil 72",
      "metadata": {}
    },
    {
      "id": "39e17dfe-4630-4479-b8a6-163c7192087d",
      "cell_type": "code",
      "source": "class ListNode:\n    def __init__(self, val=0, next=None):\n        self.val = val\n        self.next = next\n\ndef rotateRight(head, k):\n    if not head or not head.next or k == 0:\n        return head\n\n    length = 1\n    tail = head\n    while tail.next:\n        tail = tail.next\n        length += 1\n\n    k = k % length\n    if k == 0:\n        return head\n\n    new_tail = head\n    for _ in range(length - k - 1):\n        new_tail = new_tail.next\n\n    new_head = new_tail.next\n    new_tail.next = None\n    tail.next = head  \n\n    return new_head\n\ndef print_list(head):\n    values = []\n    while head:\n        values.append(head.val)\n        head = head.next\n    print(values)\n\n# Example usage\nhead = ListNode(1, ListNode(2, ListNode(3, ListNode(4, ListNode(5)))))\nk = 2\nnew_head = rotateRight(head, k)\nprint_list(new_head)  \n",
      "metadata": {
        "trusted": true
      },
      "outputs": [
        {
          "name": "stdout",
          "output_type": "stream",
          "text": "[4, 5, 1, 2, 3]\n"
        }
      ],
      "execution_count": 1
    }
  ]
}